{
 "nbformat": 4,
 "nbformat_minor": 0,
 "metadata": {
  "colab": {
   "provenance": [],
   "gpuType": "T4"
  },
  "kernelspec": {
   "name": "python3",
   "display_name": "Python 3"
  },
  "language_info": {
   "name": "python"
  },
  "accelerator": "GPU"
 },
 "cells": [
  {
   "cell_type": "code",
   "execution_count": null,
   "metadata": {
    "id": "aP4VbhGjDkdW",
    "colab": {
     "base_uri": "https://localhost:8080/"
    },
    "outputId": "8ac2c497-01c7-4bc2-ba7d-2094897ceac6",
    "pycharm": {
     "name": "#%%\n",
     "is_executing": true
    }
   },
   "outputs": [],
   "source": [
    "from google.colab import drive\n",
    "drive.mount('/content/gdrive')"
   ]
  },
  {
   "cell_type": "code",
   "source": [
    "# use python3.8\n",
    "%%shell\n",
    "apt-get install python3.8\n",
    "ls /usr/bin/| grep python\n",
    "python -m pip uninstall -y pip\n",
    "\n",
    "\n",
    "export py=`which python`\n",
    "sudo rm $py\n",
    "export py38=`which python3.8`\n",
    "sudo ln -s $py38 $py\n",
    "\n",
    "sudo apt-get install python3.8-distutils\n",
    "wget https://bootstrap.pypa.io/pip/get-pip.py\n",
    "python get-pip.py\n",
    "\n",
    "python -V\n",
    "pip -V\n",
    "\n",
    "# download code and model\n",
    "git clone  https://github.com/quicksandznzn/wav2lip-hq-updated-ESRGAN.git  wav2lip-hq\n",
    "cd wav2lip-hq\n",
    "pip install -r requirements.txt\n",
    "bash download_models.sh"
   ],
   "metadata": {
    "id": "N3XSyajSD3FE",
    "pycharm": {
     "name": "#%%\n"
    }
   },
   "execution_count": 2,
   "outputs": []
  },
  {
   "cell_type": "code",
   "execution_count": null,
   "outputs": [],
   "source": [
    "!python /content/wav2lip-hq/inference.py \\\n",
    "        --checkpoint_path \"/content/wav2lip-hq/checkpoints/wav2lip_st.pth\" \\\n",
    "        --segmentation_path \"/content/wav2lip-hq/checkpoints/face_segmentation.pth\" \\\n",
    "        --sr_path \"/content/wav2lip-hq/checkpoints/RealESRGAN_x4plus.pth\" \\\n",
    "        --enhance_face gfpgan \\\n",
    "        --face \"/content/wav2lip-hq/videos/kimk_7s_raw.mp4\" \\\n",
    "        --audio \"/content/wav2lip-hq/videos/audio.mp4\" \\\n",
    "        --outfile \"/content/wav2lip-hq/results/result.mp4\" \\\n",
    "        --save_frames \\\n",
    "        --save_as_video \\\n",
    "        --gt_path \"/content/wav2lip-hq/results/gt.mp4\" \\\n",
    "        --pred_path \"/content/wav2lip-hq/results/pred.mp4\""
   ],
   "metadata": {
    "collapsed": false,
    "pycharm": {
     "name": "#%%\n"
    }
   }
  },
  {
   "cell_type": "code",
   "execution_count": null,
   "outputs": [],
   "source": [
    "# copy video to google drive\n",
    "!cp -r /content/wav2lip-hq/results/result.mp4 /content/gdrive/MyDrive/wav2lip/\n",
    "!cp -r /content/wav2lip-hq/results/gt.mp4 /content/gdrive/MyDrive/wav2lip/\n",
    "!cp -r /content/wav2lip-hq/results/pred.mp4 /content/gdrive/MyDrive/wav2lip/"
   ],
   "metadata": {
    "collapsed": false,
    "pycharm": {
     "name": "#%%\n"
    }
   }
  }
 ]
}